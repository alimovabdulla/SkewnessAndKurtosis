{
 "cells": [
  {
   "cell_type": "code",
   "execution_count": 1,
   "id": "3e059c2e",
   "metadata": {
    "_cell_guid": "b1076dfc-b9ad-4769-8c92-a6c4dae69d19",
    "_uuid": "8f2839f25d086af736a60e9eeb907d3b93b6e0e5",
    "execution": {
     "iopub.execute_input": "2025-01-06T08:30:43.604103Z",
     "iopub.status.busy": "2025-01-06T08:30:43.603654Z",
     "iopub.status.idle": "2025-01-06T08:30:44.993033Z",
     "shell.execute_reply": "2025-01-06T08:30:44.991673Z"
    },
    "papermill": {
     "duration": 1.395616,
     "end_time": "2025-01-06T08:30:44.994900",
     "exception": false,
     "start_time": "2025-01-06T08:30:43.599284",
     "status": "completed"
    },
    "tags": []
   },
   "outputs": [],
   "source": [
    "import pandas as pd\n",
    "from scipy.stats import skew, kurtosis"
   ]
  },
  {
   "cell_type": "code",
   "execution_count": 2,
   "id": "9681d36a",
   "metadata": {
    "execution": {
     "iopub.execute_input": "2025-01-06T08:30:45.001639Z",
     "iopub.status.busy": "2025-01-06T08:30:45.001192Z",
     "iopub.status.idle": "2025-01-06T08:30:45.005748Z",
     "shell.execute_reply": "2025-01-06T08:30:45.004897Z"
    },
    "papermill": {
     "duration": 0.009325,
     "end_time": "2025-01-06T08:30:45.007244",
     "exception": false,
     "start_time": "2025-01-06T08:30:44.997919",
     "status": "completed"
    },
    "tags": []
   },
   "outputs": [],
   "source": [
    "# Məlumat nümunəsi\n",
    "data = [10, 12, 12, 14, 15, 15, 18, 20, 22, 24, 30, 31, 35, 40]"
   ]
  },
  {
   "cell_type": "code",
   "execution_count": 3,
   "id": "d443d076",
   "metadata": {
    "execution": {
     "iopub.execute_input": "2025-01-06T08:30:45.013252Z",
     "iopub.status.busy": "2025-01-06T08:30:45.012946Z",
     "iopub.status.idle": "2025-01-06T08:30:45.020565Z",
     "shell.execute_reply": "2025-01-06T08:30:45.019603Z"
    },
    "papermill": {
     "duration": 0.012444,
     "end_time": "2025-01-06T08:30:45.022224",
     "exception": false,
     "start_time": "2025-01-06T08:30:45.009780",
     "status": "completed"
    },
    "tags": []
   },
   "outputs": [],
   "source": [
    "df = pd.DataFrame(data, columns=['Values'])"
   ]
  },
  {
   "cell_type": "markdown",
   "id": "98f0c0d0",
   "metadata": {
    "papermill": {
     "duration": 0.00216,
     "end_time": "2025-01-06T08:30:45.026902",
     "exception": false,
     "start_time": "2025-01-06T08:30:45.024742",
     "status": "completed"
    },
    "tags": []
   },
   "source": [
    "**Skewness (Simmetriya əmsalı)**"
   ]
  },
  {
   "cell_type": "code",
   "execution_count": 4,
   "id": "03ff954d",
   "metadata": {
    "execution": {
     "iopub.execute_input": "2025-01-06T08:30:45.032744Z",
     "iopub.status.busy": "2025-01-06T08:30:45.032425Z",
     "iopub.status.idle": "2025-01-06T08:30:45.045435Z",
     "shell.execute_reply": "2025-01-06T08:30:45.044364Z"
    },
    "papermill": {
     "duration": 0.017832,
     "end_time": "2025-01-06T08:30:45.047129",
     "exception": false,
     "start_time": "2025-01-06T08:30:45.029297",
     "status": "completed"
    },
    "tags": []
   },
   "outputs": [],
   "source": [
    "skewness = skew(df['Values'])"
   ]
  },
  {
   "cell_type": "markdown",
   "id": "bfe80154",
   "metadata": {
    "papermill": {
     "duration": 0.002167,
     "end_time": "2025-01-06T08:30:45.051854",
     "exception": false,
     "start_time": "2025-01-06T08:30:45.049687",
     "status": "completed"
    },
    "tags": []
   },
   "source": [
    "**Kurtosis (Təpəlik əmsalı,Kəskinlik)**"
   ]
  },
  {
   "cell_type": "code",
   "execution_count": 5,
   "id": "7cd18eef",
   "metadata": {
    "execution": {
     "iopub.execute_input": "2025-01-06T08:30:45.057669Z",
     "iopub.status.busy": "2025-01-06T08:30:45.057281Z",
     "iopub.status.idle": "2025-01-06T08:30:45.062876Z",
     "shell.execute_reply": "2025-01-06T08:30:45.061897Z"
    },
    "papermill": {
     "duration": 0.010412,
     "end_time": "2025-01-06T08:30:45.064538",
     "exception": false,
     "start_time": "2025-01-06T08:30:45.054126",
     "status": "completed"
    },
    "tags": []
   },
   "outputs": [],
   "source": [
    "kurt = kurtosis(df['Values'])"
   ]
  },
  {
   "cell_type": "code",
   "execution_count": 6,
   "id": "a7061576",
   "metadata": {
    "execution": {
     "iopub.execute_input": "2025-01-06T08:30:45.070855Z",
     "iopub.status.busy": "2025-01-06T08:30:45.070517Z",
     "iopub.status.idle": "2025-01-06T08:30:45.075535Z",
     "shell.execute_reply": "2025-01-06T08:30:45.074294Z"
    },
    "papermill": {
     "duration": 0.00974,
     "end_time": "2025-01-06T08:30:45.077069",
     "exception": false,
     "start_time": "2025-01-06T08:30:45.067329",
     "status": "completed"
    },
    "tags": []
   },
   "outputs": [
    {
     "name": "stdout",
     "output_type": "stream",
     "text": [
      "Skewness:\n",
      "0.64\n",
      "Kurtosis:\n",
      "-0.82\n"
     ]
    }
   ],
   "source": [
    "print(f'Skewness:\\n{skewness:.2f}\\nKurtosis:\\n{kurt:.2f}')"
   ]
  },
  {
   "cell_type": "code",
   "execution_count": null,
   "id": "1c36133c",
   "metadata": {
    "papermill": {
     "duration": 0.002254,
     "end_time": "2025-01-06T08:30:45.081982",
     "exception": false,
     "start_time": "2025-01-06T08:30:45.079728",
     "status": "completed"
    },
    "tags": []
   },
   "outputs": [],
   "source": []
  }
 ],
 "metadata": {
  "kaggle": {
   "accelerator": "none",
   "dataSources": [],
   "dockerImageVersionId": 30822,
   "isGpuEnabled": false,
   "isInternetEnabled": true,
   "language": "python",
   "sourceType": "notebook"
  },
  "kernelspec": {
   "display_name": "Python 3",
   "language": "python",
   "name": "python3"
  },
  "language_info": {
   "codemirror_mode": {
    "name": "ipython",
    "version": 3
   },
   "file_extension": ".py",
   "mimetype": "text/x-python",
   "name": "python",
   "nbconvert_exporter": "python",
   "pygments_lexer": "ipython3",
   "version": "3.10.12"
  },
  "papermill": {
   "default_parameters": {},
   "duration": 4.253667,
   "end_time": "2025-01-06T08:30:45.703907",
   "environment_variables": {},
   "exception": null,
   "input_path": "__notebook__.ipynb",
   "output_path": "__notebook__.ipynb",
   "parameters": {},
   "start_time": "2025-01-06T08:30:41.450240",
   "version": "2.6.0"
  }
 },
 "nbformat": 4,
 "nbformat_minor": 5
}
